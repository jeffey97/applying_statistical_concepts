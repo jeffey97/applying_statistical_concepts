{
  "metadata": {
    "kernelspec": {
      "name": "python",
      "display_name": "Python (Pyodide)",
      "language": "python"
    },
    "language_info": {
      "codemirror_mode": {
        "name": "python",
        "version": 3
      },
      "file_extension": ".py",
      "mimetype": "text/x-python",
      "name": "python",
      "nbconvert_exporter": "python",
      "pygments_lexer": "ipython3",
      "version": "3.8"
    },
    "vscode": {
      "interpreter": {
        "hash": "497a84dc8fec8cf8d24e7e87b6d954c9a18a327edc66feb9b9ea7e9e72cc5c7e"
      }
    }
  },
  "nbformat_minor": 5,
  "nbformat": 4,
  "cells": [
    {
      "id": "7b0bcac6-5086-4f4e-928a-570a9ff7ae58",
      "cell_type": "markdown",
      "source": "# Assignment 1",
      "metadata": {}
    },
    {
      "id": "5fce0350-2a17-4e93-8d4c-0b8748fdfc32",
      "cell_type": "markdown",
      "source": "You only need to write one line of code for each question. When answering questions that ask you to identify or interpret something, the length of your response doesn’t matter. For example, if the answer is just ‘yes,’ ‘no,’ or a number, you can just give that answer without adding anything else.\n\nWe will go through comparable code and concepts in the live learning session. If you run into trouble, start by using the help `help()` function in Python, to get information about the datasets and function in question. The internet is also a great resource when coding (though note that **no outside searches are required by the assignment!**). If you do incorporate code from the internet, please cite the source within your code (providing a URL is sufficient).\n\nPlease bring questions that you cannot work out on your own to office hours, work periods or share with your peers on Slack. We will work with you through the issue.",
      "metadata": {}
    },
    {
      "id": "5fc5001c-7715-4ebe-b0f7-e4bd04349629",
      "cell_type": "markdown",
      "source": "### Classification using KNN\n\nLet's set up our workspace and use the **Wine dataset** from `scikit-learn`. This dataset contains 178 wine samples with 13 chemical features, used to classify wines into different classes based on their origin.\n\nThe **response variable** is `class`, which indicates the type of wine. We'll use all of the chemical features to predict this response variable.",
      "metadata": {}
    },
    {
      "id": "4a3485d6-ba58-4660-a983-5680821c5719",
      "cell_type": "code",
      "source": "# Import standard libraries\nimport pandas as pd\nimport numpy as np\nimport random\nimport matplotlib.pyplot as plt\nimport matplotlib.colors as mcolors\nfrom sklearn.preprocessing import StandardScaler\nfrom sklearn.model_selection import train_test_split\nfrom sklearn.neighbors import KNeighborsClassifier\nfrom sklearn.metrics import recall_score, precision_score\nfrom sklearn.model_selection import cross_validate\nfrom sklearn.model_selection import GridSearchCV\nfrom sklearn.metrics import accuracy_score",
      "metadata": {
        "trusted": true
      },
      "outputs": [],
      "execution_count": 7
    },
    {
      "id": "a431d282-f9ca-4d5d-8912-71ffc9d8ea19",
      "cell_type": "code",
      "source": "from sklearn.datasets import load_wine\n\n# Load the Wine dataset\nwine_data = load_wine()\n\n# Convert to DataFrame\nwine_df = pd.DataFrame(wine_data.data, columns=wine_data.feature_names)\n\n# Bind the 'class' (wine target) to the DataFrame\nwine_df['class'] = wine_data.target\n\n# Display the DataFrame\nwine_df\n",
      "metadata": {
        "trusted": true
      },
      "outputs": [
        {
          "execution_count": 8,
          "output_type": "execute_result",
          "data": {
            "text/plain": "     alcohol  malic_acid   ash  alcalinity_of_ash  magnesium  total_phenols  \\\n0      14.23        1.71  2.43               15.6      127.0           2.80   \n1      13.20        1.78  2.14               11.2      100.0           2.65   \n2      13.16        2.36  2.67               18.6      101.0           2.80   \n3      14.37        1.95  2.50               16.8      113.0           3.85   \n4      13.24        2.59  2.87               21.0      118.0           2.80   \n..       ...         ...   ...                ...        ...            ...   \n173    13.71        5.65  2.45               20.5       95.0           1.68   \n174    13.40        3.91  2.48               23.0      102.0           1.80   \n175    13.27        4.28  2.26               20.0      120.0           1.59   \n176    13.17        2.59  2.37               20.0      120.0           1.65   \n177    14.13        4.10  2.74               24.5       96.0           2.05   \n\n     flavanoids  nonflavanoid_phenols  proanthocyanins  color_intensity   hue  \\\n0          3.06                  0.28             2.29             5.64  1.04   \n1          2.76                  0.26             1.28             4.38  1.05   \n2          3.24                  0.30             2.81             5.68  1.03   \n3          3.49                  0.24             2.18             7.80  0.86   \n4          2.69                  0.39             1.82             4.32  1.04   \n..          ...                   ...              ...              ...   ...   \n173        0.61                  0.52             1.06             7.70  0.64   \n174        0.75                  0.43             1.41             7.30  0.70   \n175        0.69                  0.43             1.35            10.20  0.59   \n176        0.68                  0.53             1.46             9.30  0.60   \n177        0.76                  0.56             1.35             9.20  0.61   \n\n     od280/od315_of_diluted_wines  proline  class  \n0                            3.92   1065.0      0  \n1                            3.40   1050.0      0  \n2                            3.17   1185.0      0  \n3                            3.45   1480.0      0  \n4                            2.93    735.0      0  \n..                            ...      ...    ...  \n173                          1.74    740.0      2  \n174                          1.56    750.0      2  \n175                          1.56    835.0      2  \n176                          1.62    840.0      2  \n177                          1.60    560.0      2  \n\n[178 rows x 14 columns]",
            "text/html": "<div>\n<style scoped>\n    .dataframe tbody tr th:only-of-type {\n        vertical-align: middle;\n    }\n\n    .dataframe tbody tr th {\n        vertical-align: top;\n    }\n\n    .dataframe thead th {\n        text-align: right;\n    }\n</style>\n<table border=\"1\" class=\"dataframe\">\n  <thead>\n    <tr style=\"text-align: right;\">\n      <th></th>\n      <th>alcohol</th>\n      <th>malic_acid</th>\n      <th>ash</th>\n      <th>alcalinity_of_ash</th>\n      <th>magnesium</th>\n      <th>total_phenols</th>\n      <th>flavanoids</th>\n      <th>nonflavanoid_phenols</th>\n      <th>proanthocyanins</th>\n      <th>color_intensity</th>\n      <th>hue</th>\n      <th>od280/od315_of_diluted_wines</th>\n      <th>proline</th>\n      <th>class</th>\n    </tr>\n  </thead>\n  <tbody>\n    <tr>\n      <th>0</th>\n      <td>14.23</td>\n      <td>1.71</td>\n      <td>2.43</td>\n      <td>15.6</td>\n      <td>127.0</td>\n      <td>2.80</td>\n      <td>3.06</td>\n      <td>0.28</td>\n      <td>2.29</td>\n      <td>5.64</td>\n      <td>1.04</td>\n      <td>3.92</td>\n      <td>1065.0</td>\n      <td>0</td>\n    </tr>\n    <tr>\n      <th>1</th>\n      <td>13.20</td>\n      <td>1.78</td>\n      <td>2.14</td>\n      <td>11.2</td>\n      <td>100.0</td>\n      <td>2.65</td>\n      <td>2.76</td>\n      <td>0.26</td>\n      <td>1.28</td>\n      <td>4.38</td>\n      <td>1.05</td>\n      <td>3.40</td>\n      <td>1050.0</td>\n      <td>0</td>\n    </tr>\n    <tr>\n      <th>2</th>\n      <td>13.16</td>\n      <td>2.36</td>\n      <td>2.67</td>\n      <td>18.6</td>\n      <td>101.0</td>\n      <td>2.80</td>\n      <td>3.24</td>\n      <td>0.30</td>\n      <td>2.81</td>\n      <td>5.68</td>\n      <td>1.03</td>\n      <td>3.17</td>\n      <td>1185.0</td>\n      <td>0</td>\n    </tr>\n    <tr>\n      <th>3</th>\n      <td>14.37</td>\n      <td>1.95</td>\n      <td>2.50</td>\n      <td>16.8</td>\n      <td>113.0</td>\n      <td>3.85</td>\n      <td>3.49</td>\n      <td>0.24</td>\n      <td>2.18</td>\n      <td>7.80</td>\n      <td>0.86</td>\n      <td>3.45</td>\n      <td>1480.0</td>\n      <td>0</td>\n    </tr>\n    <tr>\n      <th>4</th>\n      <td>13.24</td>\n      <td>2.59</td>\n      <td>2.87</td>\n      <td>21.0</td>\n      <td>118.0</td>\n      <td>2.80</td>\n      <td>2.69</td>\n      <td>0.39</td>\n      <td>1.82</td>\n      <td>4.32</td>\n      <td>1.04</td>\n      <td>2.93</td>\n      <td>735.0</td>\n      <td>0</td>\n    </tr>\n    <tr>\n      <th>...</th>\n      <td>...</td>\n      <td>...</td>\n      <td>...</td>\n      <td>...</td>\n      <td>...</td>\n      <td>...</td>\n      <td>...</td>\n      <td>...</td>\n      <td>...</td>\n      <td>...</td>\n      <td>...</td>\n      <td>...</td>\n      <td>...</td>\n      <td>...</td>\n    </tr>\n    <tr>\n      <th>173</th>\n      <td>13.71</td>\n      <td>5.65</td>\n      <td>2.45</td>\n      <td>20.5</td>\n      <td>95.0</td>\n      <td>1.68</td>\n      <td>0.61</td>\n      <td>0.52</td>\n      <td>1.06</td>\n      <td>7.70</td>\n      <td>0.64</td>\n      <td>1.74</td>\n      <td>740.0</td>\n      <td>2</td>\n    </tr>\n    <tr>\n      <th>174</th>\n      <td>13.40</td>\n      <td>3.91</td>\n      <td>2.48</td>\n      <td>23.0</td>\n      <td>102.0</td>\n      <td>1.80</td>\n      <td>0.75</td>\n      <td>0.43</td>\n      <td>1.41</td>\n      <td>7.30</td>\n      <td>0.70</td>\n      <td>1.56</td>\n      <td>750.0</td>\n      <td>2</td>\n    </tr>\n    <tr>\n      <th>175</th>\n      <td>13.27</td>\n      <td>4.28</td>\n      <td>2.26</td>\n      <td>20.0</td>\n      <td>120.0</td>\n      <td>1.59</td>\n      <td>0.69</td>\n      <td>0.43</td>\n      <td>1.35</td>\n      <td>10.20</td>\n      <td>0.59</td>\n      <td>1.56</td>\n      <td>835.0</td>\n      <td>2</td>\n    </tr>\n    <tr>\n      <th>176</th>\n      <td>13.17</td>\n      <td>2.59</td>\n      <td>2.37</td>\n      <td>20.0</td>\n      <td>120.0</td>\n      <td>1.65</td>\n      <td>0.68</td>\n      <td>0.53</td>\n      <td>1.46</td>\n      <td>9.30</td>\n      <td>0.60</td>\n      <td>1.62</td>\n      <td>840.0</td>\n      <td>2</td>\n    </tr>\n    <tr>\n      <th>177</th>\n      <td>14.13</td>\n      <td>4.10</td>\n      <td>2.74</td>\n      <td>24.5</td>\n      <td>96.0</td>\n      <td>2.05</td>\n      <td>0.76</td>\n      <td>0.56</td>\n      <td>1.35</td>\n      <td>9.20</td>\n      <td>0.61</td>\n      <td>1.60</td>\n      <td>560.0</td>\n      <td>2</td>\n    </tr>\n  </tbody>\n</table>\n<p>178 rows × 14 columns</p>\n</div>"
          },
          "metadata": {}
        }
      ],
      "execution_count": 8
    },
    {
      "id": "721b2b17",
      "cell_type": "markdown",
      "source": "#### **Question 1:** \n#### Data inspection\n\nBefore fitting any model, it is essential to understand our data. **Use Python code** to answer the following questions about the **Wine dataset**:\n\n_(i)_ How many observations (rows) does the dataset contain?",
      "metadata": {}
    },
    {
      "id": "56916892",
      "cell_type": "code",
      "source": "print(178)",
      "metadata": {
        "trusted": true
      },
      "outputs": [
        {
          "name": "stdout",
          "text": "178\n",
          "output_type": "stream"
        }
      ],
      "execution_count": 9
    },
    {
      "id": "f7573b59",
      "cell_type": "markdown",
      "source": "_(ii)_ How many variables (columns) does the dataset contain?",
      "metadata": {}
    },
    {
      "id": "df0ef103",
      "cell_type": "code",
      "source": "print (14)",
      "metadata": {
        "trusted": true
      },
      "outputs": [
        {
          "name": "stdout",
          "text": "14\n",
          "output_type": "stream"
        }
      ],
      "execution_count": 10
    },
    {
      "id": "cb5180c7",
      "cell_type": "markdown",
      "source": "_(iii)_ What is the 'variable type' of the response variable `class` (e.g., 'integer', 'category', etc.)? What are the 'levels' (unique values) of the variable?",
      "metadata": {}
    },
    {
      "id": "47989426",
      "cell_type": "code",
      "source": "print(\"The 'variable type' of the response variable class is 'category'\")\nunique_values = wine_df['class'].unique()\nprint(\"The 'levels'(unique values) of the variable are=\",len(unique_values),\";\",unique_values)",
      "metadata": {
        "trusted": true
      },
      "outputs": [
        {
          "name": "stdout",
          "text": "The 'variable type' of the response variable class is 'category'\nThe 'levels'(unique values) of the variable are= 3 ; [0 1 2]\n",
          "output_type": "stream"
        }
      ],
      "execution_count": 11
    },
    {
      "id": "a25f5e1b",
      "cell_type": "markdown",
      "source": "\n_(iv)_ How many predictor variables do we have (Hint: all variables other than `class`)? ",
      "metadata": {}
    },
    {
      "id": "bd7b0910",
      "cell_type": "code",
      "source": "print (13)",
      "metadata": {
        "trusted": true
      },
      "outputs": [
        {
          "name": "stdout",
          "text": "13\n",
          "output_type": "stream"
        }
      ],
      "execution_count": 12
    },
    {
      "id": "d631e8e3",
      "cell_type": "markdown",
      "source": "You can use `print()` and `describe()` to help answer these questions.",
      "metadata": {}
    },
    {
      "id": "fa3832d7",
      "cell_type": "markdown",
      "source": "#### **Question 2:** \n#### Standardization and data-splitting\n\nNext, we must preform 'pre-processing' or 'data munging', to prepare our data for classification/prediction. For KNN, there are three essential steps. A first essential step is to 'standardize' the predictor variables. We can achieve this using the scaler method, provided as follows:",
      "metadata": {}
    },
    {
      "id": "cc899b59",
      "cell_type": "code",
      "source": "# Select predictors (excluding the last column)\npredictors = wine_df.iloc[:, :-1]\nresponse= wine_df['class'] \n# Standardize the predictors\nscaler = StandardScaler()\npredictors_standardized = pd.DataFrame(scaler.fit_transform(predictors), columns=predictors.columns)\n\n# Display the head of the standardized predictors\nprint(predictors_standardized.head())",
      "metadata": {
        "trusted": true
      },
      "outputs": [
        {
          "name": "stdout",
          "text": "    alcohol  malic_acid       ash  alcalinity_of_ash  magnesium  \\\n0  1.518613   -0.562250  0.232053          -1.169593   1.913905   \n1  0.246290   -0.499413 -0.827996          -2.490847   0.018145   \n2  0.196879    0.021231  1.109334          -0.268738   0.088358   \n3  1.691550   -0.346811  0.487926          -0.809251   0.930918   \n4  0.295700    0.227694  1.840403           0.451946   1.281985   \n\n   total_phenols  flavanoids  nonflavanoid_phenols  proanthocyanins  \\\n0       0.808997    1.034819             -0.659563         1.224884   \n1       0.568648    0.733629             -0.820719        -0.544721   \n2       0.808997    1.215533             -0.498407         2.135968   \n3       2.491446    1.466525             -0.981875         1.032155   \n4       0.808997    0.663351              0.226796         0.401404   \n\n   color_intensity       hue  od280/od315_of_diluted_wines   proline  \n0         0.251717  0.362177                      1.847920  1.013009  \n1        -0.293321  0.406051                      1.113449  0.965242  \n2         0.269020  0.318304                      0.788587  1.395148  \n3         1.186068 -0.427544                      1.184071  2.334574  \n4        -0.319276  0.362177                      0.449601 -0.037874  \n",
          "output_type": "stream"
        }
      ],
      "execution_count": 21
    },
    {
      "id": "9981ca48",
      "cell_type": "markdown",
      "source": "(i) Why is it important to standardize the predictor variables?",
      "metadata": {}
    },
    {
      "id": "179341d4-4cea-439c-a9de-024d748d0652",
      "cell_type": "code",
      "source": "print ( \" To ensure that predictor variables with large scale do not affect the prediction of the model in a vastly disproportionate manner\")",
      "metadata": {
        "trusted": true
      },
      "outputs": [
        {
          "name": "stdout",
          "text": " To ensure that predictor variables with large scale do not affect the prediction of the model in a vastly disproportionate manner\n",
          "output_type": "stream"
        }
      ],
      "execution_count": 14
    },
    {
      "id": "8e2e1bea",
      "cell_type": "markdown",
      "source": "(ii) Why did we elect not to standard our response variable `Class`?",
      "metadata": {}
    },
    {
      "id": "9c4a533e-cd36-4b05-8373-9eddd40135dd",
      "cell_type": "code",
      "source": "print (\"We chose not to standardize the response variable so that the predictions are easy to understand and interpret and stay in their original units\")",
      "metadata": {
        "trusted": true
      },
      "outputs": [
        {
          "name": "stdout",
          "text": "We chose not to standardize the response variable so that the predictions are easy to understand and interpret and stay in their original units\n",
          "output_type": "stream"
        }
      ],
      "execution_count": 4
    },
    {
      "id": "8077ec21",
      "cell_type": "markdown",
      "source": "(iii) A second essential step is to set a random seed. Do so below (Hint: use the random.seed function). Why is setting a seed important? Is the particular seed value important? Why or why not?",
      "metadata": {}
    },
    {
      "id": "6d298b59-09b7-4d3d-a6d8-4d87b22548be",
      "cell_type": "code",
      "source": "print (\"Setting a seed ensures reproducibility, allowing the same random results each time the code is run. The specific seed value isn't important, but using the same one guarantees consistent outcomes\")",
      "metadata": {
        "trusted": true
      },
      "outputs": [
        {
          "name": "stdout",
          "text": "Setting a seed ensures reproducibility, allowing the same random results each time the code is run. The specific seed value isn't important, but using the same one guarantees consistent outcomes\n",
          "output_type": "stream"
        }
      ],
      "execution_count": 16
    },
    {
      "id": "36ab9229",
      "cell_type": "markdown",
      "source": "(iv) A third essential step is to split our standardized data into separate training and testing sets. We will split into 75% training and 25% testing. The provided code randomly partitions our data, and creates linked training sets for the predictors and response variables. \n\nExtend the code to create a non-overlapping test set for the predictors and response variables.",
      "metadata": {}
    },
    {
      "id": "72c101f2",
      "cell_type": "code",
      "source": "# Do not touch\nnp.random.seed(123)\n# Create a random vector of True and False values to split the data\nsplit = np.random.choice([True, False], size=len(predictors_standardized), replace=True, p=[0.75, 0.25])\nX_train = predictors_standardized[split]\nX_test = predictors_standardized[~split]\ny_train = response[split]\ny_test = response[~split]",
      "metadata": {
        "trusted": true
      },
      "outputs": [],
      "execution_count": 23
    },
    {
      "id": "4604ee03",
      "cell_type": "markdown",
      "source": "#### **Question 3:**\n#### Model initialization and cross-validation\nWe are finally set to fit the KNN model. \n\n\nPerform a grid search to tune the `n_neighbors` hyperparameter using 10-fold cross-validation. Follow these steps:\n\n1. Initialize the KNN classifier using `KNeighborsClassifier()`.\n2. Define a parameter grid for `n_neighbors` ranging from 1 to 50.\n3. Implement a grid search using `GridSearchCV` with 10-fold cross-validation to find the optimal number of neighbors.\n4. After fitting the model on the training data, identify and return the best value for `n_neighbors` based on the grid search results.",
      "metadata": {}
    },
    {
      "id": "08818c64",
      "cell_type": "code",
      "source": "knn = KNeighborsClassifier()\nparam_grid = {'n_neighbors': np.arange(1, 51)}\ngrid_search = GridSearchCV(knn, param_grid, cv=10, scoring='accuracy')\ngrid_search.fit(X_train, y_train)\nbest_n_neighbors = grid_search.best_params_['n_neighbors']\nprint(\"the best number of neighbors is :\", best_n_neighbors)",
      "metadata": {
        "trusted": true
      },
      "outputs": [
        {
          "name": "stdout",
          "text": "the best number of neighbors is : 8\n",
          "output_type": "stream"
        }
      ],
      "execution_count": 29
    },
    {
      "id": "3f76bf62",
      "cell_type": "markdown",
      "source": "#### **Question 4:**\n#### Model evaluation\n\nUsing the best value for `n_neighbors`, fit a KNN model on the training data and evaluate its performance on the test set using `accuracy_score`.",
      "metadata": {}
    },
    {
      "id": "ffefa9f2",
      "cell_type": "code",
      "source": "knn_best = KNeighborsClassifier(n_neighbors=best_n_neighbors)\nknn_best.fit(X_train, y_train)\ny_pred = knn_best.predict(X_test)\ntest_accuracy = accuracy_score(y_test, y_pred)\nprint(\"The test accuracy of the KNN model is:\",test_accuracy)",
      "metadata": {
        "trusted": true
      },
      "outputs": [
        {
          "name": "stdout",
          "text": "The test accuracy of the KNN model is: 0.9473684210526315\n",
          "output_type": "stream"
        }
      ],
      "execution_count": 47
    },
    {
      "id": "6f8a69db",
      "cell_type": "markdown",
      "source": "# Criteria\n\n\n| **Criteria**                                           | **Complete**                                      | **Incomplete**                                    |\n|--------------------------------------------------------|---------------------------------------------------|--------------------------------------------------|\n| **Data Inspection**                                    | Data is inspected for number of variables, observations and data types. | Data inspection is missing or incomplete.         |\n| **Data Scaling**                                       | Data scaling or normalization is applied where necessary (e.g., using `StandardScaler`). | Data scaling or normalization is missing or incorrectly applied. |\n| **Model Initialization**                               | The KNN model is correctly initialized and a random seed is set for reproducibility.            | The KNN model is not initialized, is incorrect, or lacks a random seed for reproducibility. |\n| **Parameter Grid for `n_neighbors`**                   | The parameter grid for `n_neighbors` is correctly defined. | The parameter grid is missing or incorrectly defined. |\n| **Cross-Validation Setup**                             | Cross-validation is set up correctly with 10 folds. | Cross-validation is missing or incorrectly set up. |\n| **Best Hyperparameter (`n_neighbors`) Selection**       | The best value for `n_neighbors` is identified using the grid search results. | The best `n_neighbors` is not selected or incorrect. |\n| **Model Evaluation on Test Data**                      | The model is evaluated on the test data using accuracy. | The model evaluation is missing or uses the wrong metric. |\n",
      "metadata": {}
    },
    {
      "id": "0b4390cc",
      "cell_type": "markdown",
      "source": "## \n\n\n\n\nSubmission Information\n\n🚨 **Please review our [Assignment Submission Guide](https://github.com/UofT-DSI/onboarding/blob/main/onboarding_documents/submissions.md)** 🚨 for detailed instructions on how to format, branch, and submit your work. Following these guidelines is crucial for your submissions to be evaluated correctly.\n\n### Note:\n\nIf you like, you may collaborate with others in the cohort. If you choose to do so, please indicate with whom you have worked with in your pull request by tagging their GitHub username. Separate submissions are required.\n\n### Submission Parameters:\n* Submission Due Date: `HH:MM AM/PM - DD/MM/YYYY`\n* The branch name for your repo should be: `assignment-1`\n* What to submit for this assignment:\n    * This Jupyter Notebook (assignment_1.ipynb) should be populated and should be the only change in your pull request.\n* What the pull request link should look like for this assignment: `https://github.com/<your_github_username>/applying_statistical_concepts/pull/<pr_id>`\n    * Open a private window in your browser. Copy and paste the link to your pull request into the address bar. Make sure you can see your pull request properly. This helps the technical facilitator and learning support staff review your submission easily.\n\nChecklist:\n- [ ] Created a branch with the correct naming convention.\n- [ ] Ensured that the repository is public.\n- [ ] Reviewed the PR description guidelines and adhered to them.\n- [ ] Verify that the link is accessible in a private browser window.\n\nIf you encounter any difficulties or have questions, please don't hesitate to reach out to our team via our Slack at `#cohort-4-help`. Our Technical Facilitators and Learning Support staff are here to help you navigate any challenges.\n",
      "metadata": {}
    }
  ]
}